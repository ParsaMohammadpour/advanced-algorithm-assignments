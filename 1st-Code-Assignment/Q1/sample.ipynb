{
 "cells": [
  {
   "metadata": {
    "ExecuteTime": {
     "end_time": "2024-11-26T21:13:14.787256Z",
     "start_time": "2024-11-26T21:13:13.601405Z"
    }
   },
   "cell_type": "code",
   "source": [
    "import time\n",
    "\n",
    "from Q1.classes.median_maintenance import MedianMaintenance\n",
    "from Q1.classes.heap.heap_median_maintenance import HeapMedianMaintenance\n",
    "from Q1.classes.BST.MedianMaintenanceBST import MedianMaintenanceBST"
   ],
   "id": "fbc121e30a2defb3",
   "outputs": [],
   "execution_count": 1
  },
  {
   "metadata": {},
   "cell_type": "markdown",
   "source": "### defining comparator",
   "id": "5fa31aef66a2d617"
  },
  {
   "metadata": {
    "ExecuteTime": {
     "end_time": "2024-11-26T21:13:14.795312Z",
     "start_time": "2024-11-26T21:13:14.787256Z"
    }
   },
   "cell_type": "code",
   "source": [
    "def executor(numbers: list[int], median_maintenance: MedianMaintenance) -> [int, int]:\n",
    "    start_time = time.time_ns()\n",
    "    for num in numbers:\n",
    "        median_maintenance.insert_number(num)\n",
    "    end_time = time.time_ns()\n",
    "    execution_time = end_time - start_time\n",
    "    summation = sum(median_maintenance.get_median_list()) % 10000\n",
    "    return summation, execution_time"
   ],
   "id": "3e627a50d5167d1a",
   "outputs": [],
   "execution_count": 2
  },
  {
   "metadata": {},
   "cell_type": "markdown",
   "source": "### Reading from File",
   "id": "64bd09c1b05669be"
  },
  {
   "metadata": {
    "ExecuteTime": {
     "end_time": "2024-11-26T21:13:14.822369Z",
     "start_time": "2024-11-26T21:13:14.797027Z"
    }
   },
   "cell_type": "code",
   "source": [
    "numbers = []\n",
    "\n",
    "with open('C:\\\\Users\\\\parsa\\\\OneDrive\\\\Desktop\\\\Advanced-Algorithm\\\\Assignments\\\\1st-code-assignment\\\\scientificProject\\\\data\\\\Median.txt', 'r') as file:\n",
    "    start_time = time.time_ns()\n",
    "    for line in file:\n",
    "        num = int(line.strip())\n",
    "        numbers.append(num)"
   ],
   "id": "69b2b1c59be83652",
   "outputs": [],
   "execution_count": 3
  },
  {
   "metadata": {},
   "cell_type": "markdown",
   "source": "# heap",
   "id": "979fb4a442f54d7e"
  },
  {
   "metadata": {},
   "cell_type": "markdown",
   "source": "### simple test",
   "id": "fa5cce161eb26bab"
  },
  {
   "metadata": {
    "ExecuteTime": {
     "end_time": "2024-11-26T21:13:14.834072Z",
     "start_time": "2024-11-26T21:13:14.822369Z"
    }
   },
   "cell_type": "code",
   "source": [
    "hmm = HeapMedianMaintenance()\n",
    "higher_bound = 10\n",
    "for i in list(range(1, higher_bound + 1)):\n",
    "    hmm.insert_number(i)\n",
    "hmm.get_median_list()"
   ],
   "id": "de8fd29c2f689345",
   "outputs": [
    {
     "data": {
      "text/plain": [
       "[1, 1, 2, 2, 3, 3, 4, 4, 5, 5]"
      ]
     },
     "execution_count": 4,
     "metadata": {},
     "output_type": "execute_result"
    }
   ],
   "execution_count": 4
  },
  {
   "metadata": {},
   "cell_type": "markdown",
   "source": "### file result",
   "id": "4b98f96dc621df34"
  },
  {
   "metadata": {
    "ExecuteTime": {
     "end_time": "2024-11-26T21:13:14.857703Z",
     "start_time": "2024-11-26T21:13:14.834072Z"
    }
   },
   "cell_type": "code",
   "source": [
    "hmm = HeapMedianMaintenance()\n",
    "heap_res, heap_exec_time = executor(numbers, hmm)\n",
    "\n",
    "heap_res"
   ],
   "id": "851691ee04dd5a15",
   "outputs": [
    {
     "data": {
      "text/plain": [
       "1213"
      ]
     },
     "execution_count": 5,
     "metadata": {},
     "output_type": "execute_result"
    }
   ],
   "execution_count": 5
  },
  {
   "metadata": {},
   "cell_type": "markdown",
   "source": "# BST",
   "id": "6b72c4dc1c501d3d"
  },
  {
   "metadata": {},
   "cell_type": "markdown",
   "source": "### Simple test",
   "id": "8f833364c12b01b"
  },
  {
   "metadata": {
    "ExecuteTime": {
     "end_time": "2024-11-26T21:13:15.410112Z",
     "start_time": "2024-11-26T21:13:14.857703Z"
    }
   },
   "cell_type": "code",
   "source": [
    "tree = MedianMaintenanceBST()\n",
    "\n",
    "for i in list(range(1, 11 + 1)):\n",
    "    tree.insert_number(i)\n",
    "\n",
    "tree.plot_graph()\n",
    "print(f'medians: {tree.get_median_list()}')"
   ],
   "id": "bf48210f2297c5b6",
   "outputs": [
    {
     "data": {
      "text/plain": [
       "<Figure size 640x480 with 1 Axes>"
      ],
      "image/png": "[encoded data removed]"
     },
     "metadata": {},
     "output_type": "display_data"
    },
    {
     "name": "stdout",
     "output_type": "stream",
     "text": [
      "medians: [1, 1, 2, 2, 3, 3, 4, 4, 5, 5, 6]\n"
     ]
    }
   ],
   "execution_count": 6
  },
  {
   "metadata": {},
   "cell_type": "markdown",
   "source": "### File result",
   "id": "f2d0c8b1e37db5c3"
  },
  {
   "metadata": {
    "ExecuteTime": {
     "end_time": "2024-11-26T21:13:15.805200Z",
     "start_time": "2024-11-26T21:13:15.410112Z"
    }
   },
   "cell_type": "code",
   "source": [
    "bst = MedianMaintenanceBST()\n",
    "bst_res, bst_exec_time = executor(numbers, bst)\n",
    "\n",
    "bst_res"
   ],
   "id": "24d2c2d8b2a8afec",
   "outputs": [
    {
     "data": {
      "text/plain": [
       "1213"
      ]
     },
     "execution_count": 7,
     "metadata": {},
     "output_type": "execute_result"
    }
   ],
   "execution_count": 7
  },
  {
   "metadata": {},
   "cell_type": "markdown",
   "source": "# Comparison",
   "id": "ff76a5ab79782353"
  },
  {
   "metadata": {
    "ExecuteTime": {
     "end_time": "2024-11-26T21:13:15.816256Z",
     "start_time": "2024-11-26T21:13:15.805200Z"
    }
   },
   "cell_type": "code",
   "source": "print(f'have same result: {bst_res == heap_res}')",
   "id": "994f6b8a7834fe1e",
   "outputs": [
    {
     "name": "stdout",
     "output_type": "stream",
     "text": [
      "have same result: True\n"
     ]
    }
   ],
   "execution_count": 8
  },
  {
   "metadata": {
    "ExecuteTime": {
     "end_time": "2024-11-26T21:13:15.824098Z",
     "start_time": "2024-11-26T21:13:15.816256Z"
    }
   },
   "cell_type": "code",
   "source": [
    "print(f'heap-time: {heap_exec_time}')\n",
    "print(f'bst-time: {bst_exec_time}')\n",
    "print(f'bst - heap: {bst_exec_time - heap_exec_time}')"
   ],
   "id": "29b5b845dac563bf",
   "outputs": [
    {
     "name": "stdout",
     "output_type": "stream",
     "text": [
      "heap-time: 11510300\n",
      "bst-time: 380605500\n",
      "bst - heap: 369095200\n"
     ]
    }
   ],
   "execution_count": 9
  }
 ],
 "metadata": {
  "kernelspec": {
   "display_name": "Python 3",
   "language": "python",
   "name": "python3"
  },
  "language_info": {
   "codemirror_mode": {
    "name": "ipython",
    "version": 2
   },
   "file_extension": ".py",
   "mimetype": "text/x-python",
   "name": "python",
   "nbconvert_exporter": "python",
   "pygments_lexer": "ipython2",
   "version": "2.7.6"
  }
 },
 "nbformat": 4,
 "nbformat_minor": 5
}
